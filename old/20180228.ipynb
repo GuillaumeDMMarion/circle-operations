{
 "cells": [
  {
   "cell_type": "code",
   "execution_count": 1,
   "metadata": {
    "collapsed": true
   },
   "outputs": [],
   "source": [
    "import math\n",
    "import warnings\n",
    "import numpy as np\n",
    "import matplotlib.pyplot as plt\n",
    "from itertools import chain\n",
    "\n",
    "%matplotlib inline"
   ]
  },
  {
   "cell_type": "code",
   "execution_count": 2,
   "metadata": {
    "collapsed": true
   },
   "outputs": [],
   "source": [
    "class circle(object):\n",
    "    \n",
    "    def __init__(self,x_coordinate,y_coordinate,radius):\n",
    "        self.x = x_coordinate\n",
    "        self.y = y_coordinate\n",
    "        self.r = radius\n",
    "        \n",
    "    def __str__(self):\n",
    "        return str((self.x,self.y,self.r))\n",
    "        \n",
    "    def area(self):\n",
    "        A = math.pi*self.r**2\n",
    "        return A\n",
    "        \n",
    "    def distance(self,circle_2):\n",
    "        return math.sqrt( (circle_2.x-self.x)**2 + (circle_2.y-self.y)**2 )\n",
    "    \n",
    "    def multiDistance(self,circles_list):\n",
    "        map_result = map(self.distance,circles_list)\n",
    "        return list(map_result)\n",
    "\n",
    "    def intersect(self,circle_2):\n",
    "        # Based on Paul Bourke's work\n",
    "        d = self.distance(circle_2)\n",
    "        r0 = self.r\n",
    "        r1 = circle_2.r\n",
    "        if (d>r0+r1) | (d<abs(r0-r1)) :\n",
    "            warnings.warn('no intersection > returning None')\n",
    "            return None\n",
    "        if (d==0) & (r0==r1):\n",
    "            raise OverflowError('overlapping circles > infinite number of solutions')\n",
    "        a = (r0**2-r1**2+d**2) / (2*d)\n",
    "        h = math.sqrt(r0**2-a**2)\n",
    "        P0 = np.array([self.x,self.y])\n",
    "        P1 = np.array([circle_2.x,circle_2.y])\n",
    "        P2 = P0+a*(P1-P0)/d\n",
    "        x_y_diff = P1-P0\n",
    "        substra_add_end = h*(x_y_diff)/d\n",
    "        I1 = P2+substra_add_end[::-1]*[1,-1]\n",
    "        I2 = P2+substra_add_end[::-1]*[-1,1]\n",
    "        return I1,I2\n",
    "\n",
    "    def intersectCord(self,circle_2):\n",
    "        d = self.distance(circle_2)\n",
    "        r0 = self.r\n",
    "        r1 = circle_2.r\n",
    "        a = (1/d)*math.sqrt((-d+r1-r0)*(-d-r1+r0)*(-d+r1+r0)*(d+r1+r0))\n",
    "        return a\n",
    "    \n",
    "    def circularSegment(self,cord):\n",
    "        a = cord #self.intersectCord(circle_2)\n",
    "        bR = self.r\n",
    "        sr = (1/2)*math.sqrt(4*bR**2-a**2)\n",
    "        h = bR-sr\n",
    "        bA = bR**2 * math.acos((bR-h)/bR) - (bR-h)*math.sqrt(2*bR*h-h**2)\n",
    "        return bA\n",
    "        \n",
    "    def intersectArea(self,circle_2,show_segments=False):\n",
    "        a = self.intersectCord(circle_2)\n",
    "        A_self = self.circularSegment(a)\n",
    "        A_circle_2 = circle_2.circularSegment(a)\n",
    "        A_total = A_self+A_circle_2\n",
    "        if show_segments:\n",
    "            return [A_total,[A_self,A_circle_2]]\n",
    "        else:\n",
    "            return A_total\n",
    "    \n",
    "    def includePoint(self,point):\n",
    "        px = point[0]\n",
    "        py = point[1]\n",
    "        result = (px-self.x)**2+(py-self.y)**2<=(self.r)**2\n",
    "        return result\n",
    "    \n",
    "    def multiIntersect(self,circles_list,flat=True):\n",
    "        map_result = map(self.intersect, circles_list)\n",
    "        if flat:\n",
    "            return list(chain.from_iterable(map_result))\n",
    "        else:\n",
    "            return list(map_result)\n",
    "    \n",
    "    def polygonArea(point_list):\n",
    "        # Area of 3 or more points\n",
    "        a=1\n",
    "    \n",
    "    def multiIntersectArea(self,circles_list):\n",
    "        # to do: Identify all intersection points \n",
    "        # > From those intersection points, identify those that are contained within all circles\n",
    "        # If None, the circles do not all intersect into one area\n",
    "        # If != None, calculate the intersecting Area based on \"polygon of intersecting points\" + \"intersectCords\"\n",
    "        a=1\n",
    "        \n",
    "        \n",
    "    \n",
    "    "
   ]
  },
  {
   "cell_type": "code",
   "execution_count": 4,
   "metadata": {},
   "outputs": [
    {
     "data": {
      "text/plain": [
       "[array([  7.        ,  10.26794919]),\n",
       " array([  7.        ,  13.73205081]),\n",
       " array([  5.0167603 ,  10.25838015]),\n",
       " array([  7.9832397 ,  11.74161985])]"
      ]
     },
     "execution_count": 4,
     "metadata": {},
     "output_type": "execute_result"
    }
   ],
   "source": [
    "c1.multiIntersect([c2,c3])"
   ]
  },
  {
   "cell_type": "code",
   "execution_count": 3,
   "metadata": {},
   "outputs": [
    {
     "name": "stdout",
     "output_type": "stream",
     "text": [
      "\n",
      " True \n",
      " [array([  7.9832397 ,  11.74161985]), array([  5.0167603 ,  10.25838015]), array([  8.9832397 ,  10.25838015]), array([  6.0167603 ,  11.74161985])]\n"
     ]
    },
    {
     "data": {
      "text/plain": [
       "<matplotlib.collections.PathCollection at 0x8176a58>"
      ]
     },
     "execution_count": 3,
     "metadata": {},
     "output_type": "execute_result"
    },
    {
     "data": {
      "image/png": "[encoded data removed]",
      "text/plain": [
       "<matplotlib.figure.Figure at 0x7fdf080>"
      ]
     },
     "metadata": {},
     "output_type": "display_data"
    }
   ],
   "source": [
    "c1 = circle(6,12,2)\n",
    "c2 = circle(8,12,2)\n",
    "c3 = circle(7,10,2)\n",
    "\n",
    "p1 = [4,12]\n",
    "\n",
    "print(\n",
    "    '\\n'\n",
    "    ,c1.includePoint(p1)\n",
    "    ,'\\n'\n",
    "    ,c3.multiIntersect([c1,c2])\n",
    ")\n",
    "    \n",
    "fig,ax = plt.subplots()\n",
    "ax.set_xlim((0, 20))\n",
    "ax.set_ylim((0, 20))\n",
    "plt.grid(b=True, which='major', color='grey', linestyle='--')\n",
    "plt.xticks(np.arange(0, 21, 2.0))\n",
    "plt.yticks(np.arange(0, 21, 2.0))\n",
    "for cplot in [c1,c2,c3]:\n",
    "    c = plt.Circle((cplot.x,cplot.y), cplot.r, color='blue', fill=False)\n",
    "    ax.add_artist(c)\n",
    "    \n",
    "plt.scatter(p1[0],p1[1], c='red')"
   ]
  },
  {
   "cell_type": "code",
   "execution_count": null,
   "metadata": {
    "collapsed": true
   },
   "outputs": [],
   "source": []
  }
 ],
 "metadata": {
  "kernelspec": {
   "display_name": "Python 3",
   "language": "python",
   "name": "python3"
  },
  "language_info": {
   "codemirror_mode": {
    "name": "ipython",
    "version": 3
   },
   "file_extension": ".py",
   "mimetype": "text/x-python",
   "name": "python",
   "nbconvert_exporter": "python",
   "pygments_lexer": "ipython3",
   "version": "3.6.4"
  }
 },
 "nbformat": 4,
 "nbformat_minor": 2
}
