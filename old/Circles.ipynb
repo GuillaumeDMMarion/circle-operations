{
 "cells": [
  {
   "cell_type": "markdown",
   "metadata": {},
   "source": [
    "# Imports"
   ]
  },
  {
   "cell_type": "code",
   "execution_count": 43,
   "metadata": {
    "collapsed": true
   },
   "outputs": [],
   "source": [
    "import math\n",
    "import warnings\n",
    "import numpy as np\n",
    "import matplotlib.pyplot as plt\n",
    "import random\n",
    "import warnings\n",
    "from itertools import chain\n",
    "\n",
    "%matplotlib inline"
   ]
  },
  {
   "cell_type": "markdown",
   "metadata": {},
   "source": [
    "---"
   ]
  },
  {
   "cell_type": "code",
   "execution_count": 51,
   "metadata": {
    "collapsed": true
   },
   "outputs": [],
   "source": [
    "# ------------------------------------------------------------------------------------------------------------------------------\n",
    "# FOR FUTURE SPEED IMPROVEMENTS WE COULD WORK WITH ARRAY-COORDINATES? ----------------------------------------------------------\n",
    "# ------------------------------------------------------------------------------------------------------------------------------\n",
    "\n",
    "class _ccircleArray(np.ndarray):\n",
    "    '''\n",
    "    Setters and Getters for a list of circles\n",
    "    Internal use for code readability\n",
    "    '''\n",
    "    def __new__(cls, input_array=(np.nan, np.nan, np.nan)):\n",
    "        obj = np.asarray(input_array).view(cls)\n",
    "        return obj\n",
    "    @property\n",
    "    def x(self):\n",
    "        return np.array(self[:,0])\n",
    "    @x.setter\n",
    "    def x(self, value):\n",
    "        self[:,0] = value\n",
    "    @property\n",
    "    def y(self):\n",
    "        return np.array(self[:,1])\n",
    "    @y.setter\n",
    "    def y(self, value):\n",
    "        self[:,1] = value\n",
    "    \n",
    "    @property\n",
    "    def xy(self):\n",
    "        return np.array(self[:,:2])\n",
    "    @xy.setter\n",
    "    def xy(self, value):\n",
    "        self[:,:2] = value\n",
    "    \n",
    "    @property\n",
    "    def r(self):\n",
    "        return np.array(self[:,2])\n",
    "    @r.setter\n",
    "    def r(self, value):\n",
    "        self[:,2] = value\n",
    "\n",
    "        \n",
    "        \n",
    "class ccircle(np.ndarray):\n",
    "    '''\n",
    "    Setters, Getters and Methods for a single circle\n",
    "    '''\n",
    "    def __new__(cls, input_array=(np.nan, np.nan, np.nan)):\n",
    "        obj = np.asarray(input_array).view(cls)\n",
    "        return obj\n",
    "    @property\n",
    "    def x(self):\n",
    "        return self[0]\n",
    "    @x.setter\n",
    "    def x(self, value):\n",
    "        self[0] = value\n",
    "    @property\n",
    "    def y(self):\n",
    "        return self[1]\n",
    "    @y.setter\n",
    "    def y(self, value):\n",
    "        self[1] = value\n",
    "    @property\n",
    "    def xy(self):\n",
    "        return np.array(self[:2])\n",
    "    @xy.setter\n",
    "    def xy(self, value):\n",
    "        self[:2] = value\n",
    "    @property\n",
    "    def r(self):\n",
    "        return self[2]\n",
    "    @r.setter\n",
    "    def r(self, value):\n",
    "        self[2] = value\n",
    "    \n",
    "    def _rewarn(equation, new_warning):\n",
    "        try:\n",
    "            with np.errstate(invalid='raise'):\n",
    "                return equation\n",
    "        except FloatingPointError:\n",
    "            with np.errstate(invalid='ignore'):\n",
    "                warnings.warn(new_warning)\n",
    "                return equation\n",
    "    \n",
    "    def area(self):\n",
    "        A = math.pi*self.r**2\n",
    "        return A\n",
    "    \n",
    "    def distance(self,list_of_circles):\n",
    "        '''\n",
    "        Compute the Euclidean distance between the centerpoint of one circle with a list of (an)other circle(s)  \n",
    "        '''\n",
    "        ccArray = _ccircleArray(list_of_circles)\n",
    "        return np.sqrt((ccArray.x-self.x)**2+(ccArray.y-self.y)**2)\n",
    "\n",
    "    \n",
    "    def intersect(self,list_of_circles):\n",
    "        '''\n",
    "        Based on Paul Bourke's work\n",
    "        Compute the (x,y) intersect points between one circle and a list of (an)other circle(s)  \n",
    "        '''        \n",
    "        ccArray = _ccircleArray(list_of_circles)\n",
    "        n_circles = len(ccArray.x)\n",
    "        d_array = self.distance(ccArray)\n",
    "        r0 = self.r\n",
    "        r1_array = ccArray.r\n",
    "\n",
    "        try:\n",
    "            with np.errstate(invalid='raise'):\n",
    "                a = (r0**2-r1_array**2+d_array**2) / (2*d_array)\n",
    "        except FloatingPointError:\n",
    "            with np.errstate(invalid='ignore'):\n",
    "                warnings.warn('FloatingPointError: circles overlap')\n",
    "                a = (r0**2-r1_array**2+d_array**2) / (2*d_array)\n",
    "        try:\n",
    "            with np.errstate(invalid='raise'):\n",
    "                h = np.sqrt(r0**2-a**2)\n",
    "        except FloatingPointError:\n",
    "            with np.errstate(invalid='ignore'):\n",
    "                warnings.warn('FloatingPointError: no intersections')\n",
    "                h = np.sqrt(r0**2-a**2)\n",
    "        P2 = self.xy+a.reshape(n_circles,1)*(ccArray.xy-self.xy)/d_array.reshape(n_circles,1)\n",
    "        x_y_diff = ccArray.xy-self.xy\n",
    "        substraend_addend = h.reshape(n_circles,1)*x_y_diff/d_array.reshape(n_circles,1)\n",
    "        I1 = np.array(P2+substraend_addend[:,::-1]*[1,-1])\n",
    "        I2 = np.array(P2+substraend_addend[:,::-1]*[-1,1])\n",
    "        return np.array(list(zip(I1,I2)))\n",
    "    \n",
    "    \n",
    "    \n",
    "\n",
    "\n",
    "# ------------------------------------------------------------------------------------------------------------------------------\n",
    "# ------------------------------------------------------------------------------------------------------------------------------\n",
    "# ------------------------------------------------------------------------------------------------------------------------------"
   ]
  },
  {
   "cell_type": "code",
   "execution_count": null,
   "metadata": {
    "collapsed": true
   },
   "outputs": [],
   "source": []
  },
  {
   "cell_type": "code",
   "execution_count": null,
   "metadata": {
    "collapsed": true
   },
   "outputs": [],
   "source": []
  },
  {
   "cell_type": "code",
   "execution_count": null,
   "metadata": {
    "collapsed": true
   },
   "outputs": [],
   "source": []
  },
  {
   "cell_type": "code",
   "execution_count": null,
   "metadata": {
    "collapsed": true
   },
   "outputs": [],
   "source": []
  },
  {
   "cell_type": "markdown",
   "metadata": {},
   "source": [
    "---"
   ]
  },
  {
   "cell_type": "markdown",
   "metadata": {},
   "source": [
    "## Beginning of Test area"
   ]
  },
  {
   "cell_type": "markdown",
   "metadata": {},
   "source": [
    "#### Definitions"
   ]
  },
  {
   "cell_type": "code",
   "execution_count": 34,
   "metadata": {
    "collapsed": false
   },
   "outputs": [],
   "source": [
    "cc1 = ccircle([6,12,2])\n",
    "cc2 = ccircle([7,13,2])\n",
    "cc3 = ccircle([8,13,2])\n",
    "cc4 = ccircle([6,13,2])\n",
    "\n",
    "c1 = circle(6,12,2)\n",
    "c2 = circle(7,13,2)\n",
    "c3 = circle(8,13,2)\n",
    "c4 = circle(6,13,2)"
   ]
  },
  {
   "cell_type": "markdown",
   "metadata": {},
   "source": [
    "#### Accuracy"
   ]
  },
  {
   "cell_type": "code",
   "execution_count": null,
   "metadata": {
    "collapsed": false
   },
   "outputs": [],
   "source": [
    "cc1.intersect([cc2,cc3])"
   ]
  },
  {
   "cell_type": "code",
   "execution_count": null,
   "metadata": {
    "collapsed": false
   },
   "outputs": [],
   "source": [
    "c1.multiIntersect([c2,c3])"
   ]
  },
  {
   "cell_type": "markdown",
   "metadata": {},
   "source": [
    "#### Speed"
   ]
  },
  {
   "cell_type": "code",
   "execution_count": null,
   "metadata": {
    "collapsed": false
   },
   "outputs": [],
   "source": [
    "cclist = []\n",
    "for i in range(100000):\n",
    "    randnum = random.gauss(0,0.1)\n",
    "    newcircle = ccircle([cc1.x+randnum,cc1.y+randnum,cc1.r])\n",
    "    cclist.append(newcircle)\n",
    "    \n",
    "%timeit cc1.intersect(cclist)"
   ]
  },
  {
   "cell_type": "code",
   "execution_count": null,
   "metadata": {
    "collapsed": false
   },
   "outputs": [],
   "source": [
    "clist = []\n",
    "for i in range(100000):\n",
    "    randnum = random.gauss(0,0.1)\n",
    "    newcircle = circle(c1.x+randnum,c1.y+randnum,c1.r)\n",
    "    clist.append(newcircle)\n",
    "    \n",
    "%timeit c1.multiIntersect(clist)"
   ]
  },
  {
   "cell_type": "markdown",
   "metadata": {},
   "source": [
    "## End of Test area"
   ]
  },
  {
   "cell_type": "markdown",
   "metadata": {},
   "source": [
    "---"
   ]
  },
  {
   "cell_type": "code",
   "execution_count": 26,
   "metadata": {
    "collapsed": false
   },
   "outputs": [],
   "source": [
    "class circle(object):\n",
    "    \n",
    "    def __init__(self,x_coordinate,y_coordinate,radius):\n",
    "        self.x = x_coordinate\n",
    "        self.y = y_coordinate\n",
    "        self.r = radius\n",
    "        \n",
    "    def __str__(self):\n",
    "        return str((self.x,self.y,self.r))\n",
    "        \n",
    "    def area(self):\n",
    "        A = math.pi*self.r**2\n",
    "        return A\n",
    "        \n",
    "    def distance(self,circle_2):\n",
    "        return math.sqrt( (circle_2.x-self.x)**2 + (circle_2.y-self.y)**2 )\n",
    "    \n",
    "    def multiDistance(self,circles_list):\n",
    "        map_result = map(self.distance,circles_list)\n",
    "        return list(map_result)\n",
    "\n",
    "    def intersect(self,circle_2):\n",
    "        # Based on Paul Bourke's work\n",
    "        d = self.distance(circle_2)\n",
    "        r0 = self.r\n",
    "        r1 = circle_2.r\n",
    "        if (d>r0+r1) | (d<abs(r0-r1)) :\n",
    "            warnings.warn('no intersection > returning None')\n",
    "            return None\n",
    "        if (d==0) & (r0==r1):\n",
    "            raise OverflowError('overlapping circles > infinite number of solutions')\n",
    "        a = (r0**2-r1**2+d**2) / (2*d)\n",
    "        h = math.sqrt(r0**2-a**2)\n",
    "        P0 = np.array([self.x,self.y])\n",
    "        P1 = np.array([circle_2.x,circle_2.y])\n",
    "        P2 = P0+a*(P1-P0)/d\n",
    "        x_y_diff = P1-P0\n",
    "        substra_add_end = h*(x_y_diff)/d\n",
    "        I1 = P2+substra_add_end[::-1]*[1,-1]\n",
    "        I2 = P2+substra_add_end[::-1]*[-1,1]\n",
    "        return I1,I2\n",
    "\n",
    "    def intersectCord(self,circle_2):\n",
    "        d = self.distance(circle_2)\n",
    "        r0 = self.r\n",
    "        r1 = circle_2.r\n",
    "        a = (1/d)*math.sqrt((-d+r1-r0)*(-d-r1+r0)*(-d+r1+r0)*(d+r1+r0))\n",
    "        return a\n",
    "    \n",
    "    def circularSegment(self,cord):\n",
    "        a = cord #self.intersectCord(circle_2)\n",
    "        bR = self.r\n",
    "        sr = (1/2)*math.sqrt(4*bR**2-a**2)\n",
    "        h = bR-sr\n",
    "        bA = bR**2 * math.acos((bR-h)/bR) - (bR-h)*math.sqrt(2*bR*h-h**2)\n",
    "        return bA\n",
    "        \n",
    "    def intersectArea(self,circle_2,show_segments=False):\n",
    "        a = self.intersectCord(circle_2)\n",
    "        A_self = self.circularSegment(a)\n",
    "        A_circle_2 = circle_2.circularSegment(a)\n",
    "        A_total = A_self+A_circle_2\n",
    "        if show_segments:\n",
    "            return [A_total,[A_self,A_circle_2]]\n",
    "        else:\n",
    "            return A_total\n",
    "    \n",
    "    def includePoint(self,point):\n",
    "        px = point[0]\n",
    "        py = point[1]\n",
    "        result = (px-self.x)**2+(py-self.y)**2<=(self.r)**2\n",
    "        return result\n",
    "    \n",
    "    def multiIntersect(self,circles_list,flat=True):\n",
    "        map_result = map(self.intersect, circles_list)\n",
    "        if flat:\n",
    "            return list(chain.from_iterable(map_result))\n",
    "        else:\n",
    "            return list(map_result)\n",
    "    \n",
    "    def polygonArea(points_list):\n",
    "        # Area of 3 or more points\n",
    "        a=1\n",
    "    \n",
    "    def multiIntersectArea(self,circles_list):\n",
    "        # to do: Identify all intersection points \n",
    "        # > From those intersection points, identify those that are contained within all circles\n",
    "        # If None, the circles do not all intersect into one area\n",
    "        # If != None, calculate the intersecting Area...\n",
    "        a=1\n",
    "        \n",
    "        \n",
    "    \n",
    "    "
   ]
  },
  {
   "cell_type": "code",
   "execution_count": null,
   "metadata": {
    "collapsed": false,
    "scrolled": false
   },
   "outputs": [],
   "source": [
    "c1 = circle(6,12,2)\n",
    "c2 = circle(8,12,2)\n",
    "c3 = circle(7,10,2)\n",
    "\n",
    "p1 = [4,12]\n",
    "\n",
    "print(\n",
    "    '\\n'\n",
    "    ,c1.includePoint(p1)\n",
    "    ,'\\n'\n",
    "    ,c3.multiIntersect([c1,c2])\n",
    ")\n",
    "    \n",
    "fig,ax = plt.subplots()\n",
    "ax.set_xlim((0, 20))\n",
    "ax.set_ylim((0, 20))\n",
    "plt.grid(b=True, which='major', color='grey', linestyle='--')\n",
    "plt.xticks(np.arange(0, 21, 2.0))\n",
    "plt.yticks(np.arange(0, 21, 2.0))\n",
    "for cplot in [c1,c2,c3]:\n",
    "    c = plt.Circle((cplot.x,cplot.y), cplot.r, color='blue', fill=False)\n",
    "    ax.add_artist(c)\n",
    "    \n",
    "plt.scatter(p1[0],p1[1], c='red')"
   ]
  }
 ],
 "metadata": {
  "kernelspec": {
   "display_name": "Python 3",
   "language": "python",
   "name": "python3"
  },
  "language_info": {
   "codemirror_mode": {
    "name": "ipython",
    "version": 3
   },
   "file_extension": ".py",
   "mimetype": "text/x-python",
   "name": "python",
   "nbconvert_exporter": "python",
   "pygments_lexer": "ipython3",
   "version": "3.6.0"
  }
 },
 "nbformat": 4,
 "nbformat_minor": 2
}
